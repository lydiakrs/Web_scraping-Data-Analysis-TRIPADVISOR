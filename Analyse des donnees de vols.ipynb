{
 "cells": [
  {
   "cell_type": "code",
   "execution_count": 4,
   "metadata": {},
   "outputs": [],
   "source": [
    "import pandas as pd\n",
    "import numpy as np\n",
    "%matplotlib inline\n",
    "import matplotlib.pyplot as plt\n",
    "import seaborn as sns\n",
    "sns.set(color_codes = True)"
   ]
  },
  {
   "cell_type": "markdown",
   "metadata": {},
   "source": [
    "# lecture csv"
   ]
  },
  {
   "cell_type": "code",
   "execution_count": 5,
   "metadata": {},
   "outputs": [],
   "source": [
    "df = pd.read_csv('vol.csv')"
   ]
  },
  {
   "cell_type": "code",
   "execution_count": 6,
   "metadata": {},
   "outputs": [
    {
     "data": {
      "text/html": [
       "<div>\n",
       "<style scoped>\n",
       "    .dataframe tbody tr th:only-of-type {\n",
       "        vertical-align: middle;\n",
       "    }\n",
       "\n",
       "    .dataframe tbody tr th {\n",
       "        vertical-align: top;\n",
       "    }\n",
       "\n",
       "    .dataframe thead th {\n",
       "        text-align: right;\n",
       "    }\n",
       "</style>\n",
       "<table border=\"1\" class=\"dataframe\">\n",
       "  <thead>\n",
       "    <tr style=\"text-align: right;\">\n",
       "      <th></th>\n",
       "      <th>prix</th>\n",
       "      <th>compagnie</th>\n",
       "      <th>depart</th>\n",
       "      <th>arrivee</th>\n",
       "      <th>Duree_vol</th>\n",
       "      <th>heure_depart</th>\n",
       "      <th>heure_arrivee</th>\n",
       "      <th>type_vol</th>\n",
       "    </tr>\n",
       "  </thead>\n",
       "  <tbody>\n",
       "    <tr>\n",
       "      <th>0</th>\n",
       "      <td>30€</td>\n",
       "      <td>easyJet</td>\n",
       "      <td>LTN</td>\n",
       "      <td>CDG</td>\n",
       "      <td>1h 15m</td>\n",
       "      <td>18:40</td>\n",
       "      <td>20:55</td>\n",
       "      <td>Direct</td>\n",
       "    </tr>\n",
       "    <tr>\n",
       "      <th>1</th>\n",
       "      <td>34€</td>\n",
       "      <td>easyJet</td>\n",
       "      <td>LTN</td>\n",
       "      <td>CDG</td>\n",
       "      <td>1h 15m</td>\n",
       "      <td>7:15</td>\n",
       "      <td>9:30</td>\n",
       "      <td>Direct</td>\n",
       "    </tr>\n",
       "    <tr>\n",
       "      <th>2</th>\n",
       "      <td>100€</td>\n",
       "      <td>Air France</td>\n",
       "      <td>LHR</td>\n",
       "      <td>CDG</td>\n",
       "      <td>1h 20m</td>\n",
       "      <td>19:45</td>\n",
       "      <td>22:05</td>\n",
       "      <td>Direct</td>\n",
       "    </tr>\n",
       "    <tr>\n",
       "      <th>3</th>\n",
       "      <td>104€</td>\n",
       "      <td>British Airways</td>\n",
       "      <td>LGW</td>\n",
       "      <td>ORY</td>\n",
       "      <td>1h 10m</td>\n",
       "      <td>9:50</td>\n",
       "      <td>12:00</td>\n",
       "      <td>Direct</td>\n",
       "    </tr>\n",
       "    <tr>\n",
       "      <th>4</th>\n",
       "      <td>104€</td>\n",
       "      <td>British Airways</td>\n",
       "      <td>LGW</td>\n",
       "      <td>ORY</td>\n",
       "      <td>1h 10m</td>\n",
       "      <td>20:25</td>\n",
       "      <td>22:35</td>\n",
       "      <td>Direct</td>\n",
       "    </tr>\n",
       "    <tr>\n",
       "      <th>...</th>\n",
       "      <td>...</td>\n",
       "      <td>...</td>\n",
       "      <td>...</td>\n",
       "      <td>...</td>\n",
       "      <td>...</td>\n",
       "      <td>...</td>\n",
       "      <td>...</td>\n",
       "      <td>...</td>\n",
       "    </tr>\n",
       "    <tr>\n",
       "      <th>138</th>\n",
       "      <td>1 732€</td>\n",
       "      <td>Plusieurs compagnies</td>\n",
       "      <td>LCY</td>\n",
       "      <td>CDG</td>\n",
       "      <td>6h 50m</td>\n",
       "      <td>8:10</td>\n",
       "      <td>16:00</td>\n",
       "      <td>1 escale, FRA</td>\n",
       "    </tr>\n",
       "    <tr>\n",
       "      <th>139</th>\n",
       "      <td>1 955€</td>\n",
       "      <td>Plusieurs compagnies</td>\n",
       "      <td>LHR</td>\n",
       "      <td>CDG</td>\n",
       "      <td>4h 0m</td>\n",
       "      <td>6:55</td>\n",
       "      <td>11:55</td>\n",
       "      <td>1 escale, ZRH</td>\n",
       "    </tr>\n",
       "    <tr>\n",
       "      <th>140</th>\n",
       "      <td>2 659€</td>\n",
       "      <td>Austrian Airlines</td>\n",
       "      <td>LHR</td>\n",
       "      <td>CDG</td>\n",
       "      <td>18h 25m</td>\n",
       "      <td>12:00</td>\n",
       "      <td>7:25+1</td>\n",
       "      <td>1 escale, EWR</td>\n",
       "    </tr>\n",
       "    <tr>\n",
       "      <th>141</th>\n",
       "      <td>3 032€</td>\n",
       "      <td>Air Canada</td>\n",
       "      <td>LHR</td>\n",
       "      <td>CDG</td>\n",
       "      <td>17h 55m</td>\n",
       "      <td>15:00</td>\n",
       "      <td>9:55+1</td>\n",
       "      <td>1 escale, YYZ</td>\n",
       "    </tr>\n",
       "    <tr>\n",
       "      <th>142</th>\n",
       "      <td>NaN</td>\n",
       "      <td>NaN</td>\n",
       "      <td>NaN</td>\n",
       "      <td>NaN</td>\n",
       "      <td>NaN</td>\n",
       "      <td>NaN</td>\n",
       "      <td>NaN</td>\n",
       "      <td>NaN</td>\n",
       "    </tr>\n",
       "  </tbody>\n",
       "</table>\n",
       "<p>143 rows × 8 columns</p>\n",
       "</div>"
      ],
      "text/plain": [
       "       prix              compagnie depart arrivee Duree_vol heure_depart  \\\n",
       "0       30€                easyJet   LTN      CDG    1h 15m       18:40    \n",
       "1       34€                easyJet   LTN      CDG    1h 15m        7:15    \n",
       "2      100€             Air France   LHR      CDG    1h 20m       19:45    \n",
       "3      104€        British Airways   LGW      ORY    1h 10m        9:50    \n",
       "4      104€        British Airways   LGW      ORY    1h 10m       20:25    \n",
       "..      ...                    ...    ...     ...       ...          ...   \n",
       "138  1 732€   Plusieurs compagnies   LCY      CDG    6h 50m        8:10    \n",
       "139  1 955€   Plusieurs compagnies   LHR      CDG     4h 0m        6:55    \n",
       "140  2 659€      Austrian Airlines   LHR      CDG   18h 25m       12:00    \n",
       "141  3 032€             Air Canada   LHR      CDG   17h 55m       15:00    \n",
       "142     NaN                    NaN    NaN     NaN       NaN          NaN   \n",
       "\n",
       "    heure_arrivee       type_vol  \n",
       "0           20:55         Direct  \n",
       "1            9:30         Direct  \n",
       "2           22:05         Direct  \n",
       "3           12:00         Direct  \n",
       "4           22:35         Direct  \n",
       "..            ...            ...  \n",
       "138         16:00  1 escale, FRA  \n",
       "139         11:55  1 escale, ZRH  \n",
       "140        7:25+1  1 escale, EWR  \n",
       "141        9:55+1  1 escale, YYZ  \n",
       "142           NaN            NaN  \n",
       "\n",
       "[143 rows x 8 columns]"
      ]
     },
     "execution_count": 6,
     "metadata": {},
     "output_type": "execute_result"
    }
   ],
   "source": [
    "df"
   ]
  },
  {
   "cell_type": "code",
   "execution_count": 7,
   "metadata": {
    "scrolled": true
   },
   "outputs": [
    {
     "name": "stdout",
     "output_type": "stream",
     "text": [
      "<class 'pandas.core.frame.DataFrame'>\n",
      "RangeIndex: 143 entries, 0 to 142\n",
      "Data columns (total 8 columns):\n",
      " #   Column         Non-Null Count  Dtype \n",
      "---  ------         --------------  ----- \n",
      " 0   prix           142 non-null    object\n",
      " 1   compagnie      142 non-null    object\n",
      " 2   depart         142 non-null    object\n",
      " 3   arrivee        142 non-null    object\n",
      " 4   Duree_vol      142 non-null    object\n",
      " 5   heure_depart   142 non-null    object\n",
      " 6   heure_arrivee  142 non-null    object\n",
      " 7   type_vol       142 non-null    object\n",
      "dtypes: object(8)\n",
      "memory usage: 9.1+ KB\n"
     ]
    }
   ],
   "source": [
    "df.info()"
   ]
  },
  {
   "cell_type": "code",
   "execution_count": 8,
   "metadata": {},
   "outputs": [
    {
     "data": {
      "text/html": [
       "<div>\n",
       "<style scoped>\n",
       "    .dataframe tbody tr th:only-of-type {\n",
       "        vertical-align: middle;\n",
       "    }\n",
       "\n",
       "    .dataframe tbody tr th {\n",
       "        vertical-align: top;\n",
       "    }\n",
       "\n",
       "    .dataframe thead th {\n",
       "        text-align: right;\n",
       "    }\n",
       "</style>\n",
       "<table border=\"1\" class=\"dataframe\">\n",
       "  <thead>\n",
       "    <tr style=\"text-align: right;\">\n",
       "      <th></th>\n",
       "      <th>depart</th>\n",
       "      <th>arrivee</th>\n",
       "      <th>compagnie</th>\n",
       "      <th>Duree_vol</th>\n",
       "      <th>prix</th>\n",
       "      <th>heure_depart</th>\n",
       "      <th>heure_arrivee</th>\n",
       "      <th>type_vol</th>\n",
       "    </tr>\n",
       "  </thead>\n",
       "  <tbody>\n",
       "    <tr>\n",
       "      <th>0</th>\n",
       "      <td>LTN</td>\n",
       "      <td>CDG</td>\n",
       "      <td>easyJet</td>\n",
       "      <td>1h 15m</td>\n",
       "      <td>30€</td>\n",
       "      <td>18:40</td>\n",
       "      <td>20:55</td>\n",
       "      <td>Direct</td>\n",
       "    </tr>\n",
       "    <tr>\n",
       "      <th>1</th>\n",
       "      <td>LTN</td>\n",
       "      <td>CDG</td>\n",
       "      <td>easyJet</td>\n",
       "      <td>1h 15m</td>\n",
       "      <td>34€</td>\n",
       "      <td>7:15</td>\n",
       "      <td>9:30</td>\n",
       "      <td>Direct</td>\n",
       "    </tr>\n",
       "    <tr>\n",
       "      <th>2</th>\n",
       "      <td>LHR</td>\n",
       "      <td>CDG</td>\n",
       "      <td>Air France</td>\n",
       "      <td>1h 20m</td>\n",
       "      <td>100€</td>\n",
       "      <td>19:45</td>\n",
       "      <td>22:05</td>\n",
       "      <td>Direct</td>\n",
       "    </tr>\n",
       "    <tr>\n",
       "      <th>3</th>\n",
       "      <td>LGW</td>\n",
       "      <td>ORY</td>\n",
       "      <td>British Airways</td>\n",
       "      <td>1h 10m</td>\n",
       "      <td>104€</td>\n",
       "      <td>9:50</td>\n",
       "      <td>12:00</td>\n",
       "      <td>Direct</td>\n",
       "    </tr>\n",
       "    <tr>\n",
       "      <th>4</th>\n",
       "      <td>LGW</td>\n",
       "      <td>ORY</td>\n",
       "      <td>British Airways</td>\n",
       "      <td>1h 10m</td>\n",
       "      <td>104€</td>\n",
       "      <td>20:25</td>\n",
       "      <td>22:35</td>\n",
       "      <td>Direct</td>\n",
       "    </tr>\n",
       "    <tr>\n",
       "      <th>...</th>\n",
       "      <td>...</td>\n",
       "      <td>...</td>\n",
       "      <td>...</td>\n",
       "      <td>...</td>\n",
       "      <td>...</td>\n",
       "      <td>...</td>\n",
       "      <td>...</td>\n",
       "      <td>...</td>\n",
       "    </tr>\n",
       "    <tr>\n",
       "      <th>138</th>\n",
       "      <td>LCY</td>\n",
       "      <td>CDG</td>\n",
       "      <td>Plusieurs compagnies</td>\n",
       "      <td>6h 50m</td>\n",
       "      <td>1 732€</td>\n",
       "      <td>8:10</td>\n",
       "      <td>16:00</td>\n",
       "      <td>1 escale, FRA</td>\n",
       "    </tr>\n",
       "    <tr>\n",
       "      <th>139</th>\n",
       "      <td>LHR</td>\n",
       "      <td>CDG</td>\n",
       "      <td>Plusieurs compagnies</td>\n",
       "      <td>4h 0m</td>\n",
       "      <td>1 955€</td>\n",
       "      <td>6:55</td>\n",
       "      <td>11:55</td>\n",
       "      <td>1 escale, ZRH</td>\n",
       "    </tr>\n",
       "    <tr>\n",
       "      <th>140</th>\n",
       "      <td>LHR</td>\n",
       "      <td>CDG</td>\n",
       "      <td>Austrian Airlines</td>\n",
       "      <td>18h 25m</td>\n",
       "      <td>2 659€</td>\n",
       "      <td>12:00</td>\n",
       "      <td>7:25+1</td>\n",
       "      <td>1 escale, EWR</td>\n",
       "    </tr>\n",
       "    <tr>\n",
       "      <th>141</th>\n",
       "      <td>LHR</td>\n",
       "      <td>CDG</td>\n",
       "      <td>Air Canada</td>\n",
       "      <td>17h 55m</td>\n",
       "      <td>3 032€</td>\n",
       "      <td>15:00</td>\n",
       "      <td>9:55+1</td>\n",
       "      <td>1 escale, YYZ</td>\n",
       "    </tr>\n",
       "    <tr>\n",
       "      <th>142</th>\n",
       "      <td>NaN</td>\n",
       "      <td>NaN</td>\n",
       "      <td>NaN</td>\n",
       "      <td>NaN</td>\n",
       "      <td>NaN</td>\n",
       "      <td>NaN</td>\n",
       "      <td>NaN</td>\n",
       "      <td>NaN</td>\n",
       "    </tr>\n",
       "  </tbody>\n",
       "</table>\n",
       "<p>143 rows × 8 columns</p>\n",
       "</div>"
      ],
      "text/plain": [
       "    depart arrivee              compagnie Duree_vol    prix heure_depart  \\\n",
       "0     LTN      CDG                easyJet    1h 15m     30€       18:40    \n",
       "1     LTN      CDG                easyJet    1h 15m     34€        7:15    \n",
       "2     LHR      CDG             Air France    1h 20m    100€       19:45    \n",
       "3     LGW      ORY        British Airways    1h 10m    104€        9:50    \n",
       "4     LGW      ORY        British Airways    1h 10m    104€       20:25    \n",
       "..     ...     ...                    ...       ...     ...          ...   \n",
       "138   LCY      CDG   Plusieurs compagnies    6h 50m  1 732€        8:10    \n",
       "139   LHR      CDG   Plusieurs compagnies     4h 0m  1 955€        6:55    \n",
       "140   LHR      CDG      Austrian Airlines   18h 25m  2 659€       12:00    \n",
       "141   LHR      CDG             Air Canada   17h 55m  3 032€       15:00    \n",
       "142    NaN     NaN                    NaN       NaN     NaN          NaN   \n",
       "\n",
       "    heure_arrivee       type_vol  \n",
       "0           20:55         Direct  \n",
       "1            9:30         Direct  \n",
       "2           22:05         Direct  \n",
       "3           12:00         Direct  \n",
       "4           22:35         Direct  \n",
       "..            ...            ...  \n",
       "138         16:00  1 escale, FRA  \n",
       "139         11:55  1 escale, ZRH  \n",
       "140        7:25+1  1 escale, EWR  \n",
       "141        9:55+1  1 escale, YYZ  \n",
       "142           NaN            NaN  \n",
       "\n",
       "[143 rows x 8 columns]"
      ]
     },
     "execution_count": 8,
     "metadata": {},
     "output_type": "execute_result"
    }
   ],
   "source": [
    "vols = df[['depart','arrivee','compagnie','Duree_vol','prix','heure_depart','heure_arrivee','type_vol']]\n",
    "\n",
    "vols\n"
   ]
  },
  {
   "cell_type": "markdown",
   "metadata": {},
   "source": [
    "# valeurs manquantes par colonne"
   ]
  },
  {
   "cell_type": "code",
   "execution_count": 9,
   "metadata": {},
   "outputs": [
    {
     "data": {
      "text/plain": [
       "<AxesSubplot:>"
      ]
     },
     "execution_count": 9,
     "metadata": {},
     "output_type": "execute_result"
    },
    {
     "data": {
      "image/png": "[encoded data removed]",
      "text/plain": [
       "<Figure size 432x288 with 2 Axes>"
      ]
     },
     "metadata": {},
     "output_type": "display_data"
    }
   ],
   "source": [
    "\n",
    "missing_values = vols.isnull()\n",
    "sns.heatmap(data=missing_values, cmap='viridis')"
   ]
  },
  {
   "cell_type": "code",
   "execution_count": 11,
   "metadata": {},
   "outputs": [
    {
     "data": {
      "text/plain": [
       "1 escale, AMS    23\n",
       "Direct           16\n",
       "1 escale, FRA    14\n",
       "1 escale, MAD    11\n",
       "1 escale, LIS     9\n",
       "1 escale, BCN     9\n",
       "1 escale, ZRH     8\n",
       "1 escale, DUB     8\n",
       "1 escale, MUC     5\n",
       "1 escale, CPH     4\n",
       "1 escale, IST     4\n",
       "1 escale, LIN     3\n",
       "1 escale, VIE     3\n",
       "1 escale, LUX     3\n",
       "1 escale, WAW     2\n",
       "1 escale, RIX     2\n",
       "1 escale, OPO     2\n",
       "1 escale, MLA     2\n",
       "1 escale, GVA     2\n",
       "1 escale, ARN     1\n",
       "1 escale, YYZ     1\n",
       "1 escale, BEG     1\n",
       "1 escale, EWR     1\n",
       "1 escale, ATH     1\n",
       "1 escale, ZAG     1\n",
       "1 escale, SOF     1\n",
       "1 escale, FCO     1\n",
       "1 escale, HAM     1\n",
       "1 escale, BRU     1\n",
       "1 escale, MXP     1\n",
       "1 escale, HEL     1\n",
       "Name: type_vol, dtype: int64"
      ]
     },
     "execution_count": 11,
     "metadata": {},
     "output_type": "execute_result"
    }
   ],
   "source": [
    "vols['type_vol'].value_counts()"
   ]
  },
  {
   "cell_type": "markdown",
   "metadata": {},
   "source": [
    "# y a t il plus d arrvee à orly ou CDG?"
   ]
  },
  {
   "cell_type": "code",
   "execution_count": 13,
   "metadata": {},
   "outputs": [
    {
     "data": {
      "text/plain": [
       " CDG    105\n",
       " ORY     37\n",
       "Name: arrivee, dtype: int64"
      ]
     },
     "execution_count": 13,
     "metadata": {},
     "output_type": "execute_result"
    }
   ],
   "source": [
    "vols['arrivee'].value_counts()"
   ]
  },
  {
   "cell_type": "code",
   "execution_count": 18,
   "metadata": {},
   "outputs": [
    {
     "name": "stderr",
     "output_type": "stream",
     "text": [
      "<ipython-input-18-008f1e727448>:2: MatplotlibDeprecationWarning: Adding an axes using the same arguments as a previous axes currently reuses the earlier instance.  In a future version, a new instance will always be created and returned.  Meanwhile, this warning can be suppressed, and the future behavior ensured, by passing a unique label to each axes instance.\n",
      "  plt.axes().set_ylabel('')\n"
     ]
    },
    {
     "data": {
      "text/plain": [
       "Text(0.5, 1.0, ' y a t il plus d arrvee à orly ou CDG')"
      ]
     },
     "execution_count": 18,
     "metadata": {},
     "output_type": "execute_result"
    },
    {
     "data": {
      "image/png": "[encoded data removed]",
      "text/plain": [
       "<Figure size 432x288 with 1 Axes>"
      ]
     },
     "metadata": {},
     "output_type": "display_data"
    }
   ],
   "source": [
    "vols['arrivee'].value_counts().plot.pie(radius = 2, autopct='%1.1f%%', explode=(0,1), startangle=0)\n",
    "plt.axes().set_ylabel('')\n",
    "plt.title(' y a t il plus d arrvee à orly ou CDG?', pad = 80, fontsize = 15)"
   ]
  },
  {
   "cell_type": "code",
   "execution_count": 30,
   "metadata": {},
   "outputs": [
    {
     "data": {
      "text/plain": [
       "124€      5\n",
       "132€      5\n",
       "145€      5\n",
       "104€      4\n",
       "131€      4\n",
       "         ..\n",
       "111€      1\n",
       "185€      1\n",
       "3 032€    1\n",
       "34€       1\n",
       "90€       1\n",
       "Name: prix, Length: 90, dtype: int64"
      ]
     },
     "execution_count": 30,
     "metadata": {},
     "output_type": "execute_result"
    }
   ],
   "source": [
    "#nb de prix de vol par tranche de prix\n",
    "vols['prix'].value_counts()"
   ]
  },
  {
   "cell_type": "code",
   "execution_count": null,
   "metadata": {},
   "outputs": [],
   "source": []
  }
 ],
 "metadata": {
  "kernelspec": {
   "display_name": "Python 3",
   "language": "python",
   "name": "python3"
  },
  "language_info": {
   "codemirror_mode": {
    "name": "ipython",
    "version": 3
   },
   "file_extension": ".py",
   "mimetype": "text/x-python",
   "name": "python",
   "nbconvert_exporter": "python",
   "pygments_lexer": "ipython3",
   "version": "3.8.5"
  }
 },
 "nbformat": 4,
 "nbformat_minor": 4
}
